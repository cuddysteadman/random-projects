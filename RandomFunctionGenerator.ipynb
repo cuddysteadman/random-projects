{
  "nbformat": 4,
  "nbformat_minor": 0,
  "metadata": {
    "colab": {
      "name": "RandomFunctionGenerator.ipynb",
      "provenance": [],
      "collapsed_sections": []
    },
    "kernelspec": {
      "name": "python3",
      "display_name": "Python 3"
    },
    "language_info": {
      "name": "python"
    }
  },
  "cells": [
    {
      "cell_type": "code",
      "metadata": {
        "colab": {
          "base_uri": "https://localhost:8080/"
        },
        "id": "Qg--E1E-hYma",
        "outputId": "02a85368-0920-4a62-8f6f-87ce3eb8fe84"
      },
      "source": [
        "from numpy.random import randint as rand\n",
        "numbers = [2, 3, 4, 5, 6, 7, 8, 9, 10]\n",
        "functions = [\"ln\", \"sin\", \" * \", \" / \", \"sqrt\", \"e^\", \"^\"]\n",
        "random = rand(0, 2)\n",
        "if random == 0:\n",
        "  numerator = \"\" + functions[rand(0, len(functions))] + \"(\"\n",
        "  denominator = \"\" + functions[rand(0, len(functions))] + \"(\"\n",
        "  if numerator == \"^(\" or numerator == \" * (\" or numerator == \" / (\":\n",
        "    numerator = \"\" + str(numbers[rand(0, len(functions))]) + numerator\n",
        "  if denominator == \"^(\" or denominator == \" * (\" or denominator == \" / (\":\n",
        "    denominator = \"\" + str(numbers[rand(0, len(numbers))]) + denominator\n",
        "  for i in range(0, rand(0, 3)):\n",
        "    numerator += \"\" + str(numbers[rand(0, len(numbers))])\n",
        "  for i in range(0, rand(0, 3)):\n",
        "    denominator += \"\" + str(numbers[rand(0, len(numbers))])\n",
        "  denominator += \"x)\"\n",
        "  numerator += \"x)\"\n",
        "  if len(numerator) < len(denominator):\n",
        "    if (len(denominator) - len(numerator)) % 2 == 0:\n",
        "      for i in range(0, (int)((len(denominator) - len(numerator)) / 2)):\n",
        "        print(\" \", end=\"\")\n",
        "    else:\n",
        "      for i in range(0, (int)((len(denominator) - len(numerator)) / 2) + 1):\n",
        "        print(\" \", end=\"\")\n",
        "  print(\"(\" + numerator + \")\")\n",
        "  for i in range(0, max(len(numerator), len(denominator)) + 2):\n",
        "    print(\"-\", end=\"\")\n",
        "  print()\n",
        "  if len(denominator) < len(numerator):\n",
        "    if (len(numerator) - len(denominator)) % 2 == 0:\n",
        "      for i in range(0, (int)((len(numerator) - len(denominator)) / 2)):\n",
        "        print(\" \", end=\"\")\n",
        "    else:\n",
        "      for i in range(0, (int)((len(numerator) - len(denominator)) / 2) + 1):\n",
        "        print(\" \", end=\"\")\n",
        "  print(\"(\" + denominator + \")\")\n",
        "else:\n",
        "  numerator = \"\" + functions[rand(0, len(functions))] + \"(\"\n",
        "  if numerator == \"^(\" or numerator == \" * (\" or numerator == \" / (\":\n",
        "    numerator = \"\" + str(numbers[rand(0, len(functions))]) + numerator\n",
        "  for i in range(0, rand(0, 3)):\n",
        "    numerator += \"\" + str(numbers[rand(0, len(numbers))])\n",
        "  numerator += \"x)\"\n",
        "  print(numerator)"
      ],
      "execution_count": 141,
      "outputs": [
        {
          "output_type": "stream",
          "text": [
            "sin(8x)\n"
          ],
          "name": "stdout"
        }
      ]
    },
    {
      "cell_type": "code",
      "metadata": {
        "id": "VQH7KXK6iet0"
      },
      "source": [
        ""
      ],
      "execution_count": null,
      "outputs": []
    }
  ]
}